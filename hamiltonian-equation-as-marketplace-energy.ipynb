{
 "cells": [
  {
   "attachments": {
    "a676d032-7c9b-4b87-aa21-31c8bca4b40c.png": {
     "image/png": "[encoded data removed]"
    }
   },
   "cell_type": "markdown",
   "id": "55d64678",
   "metadata": {
    "papermill": {
     "duration": 0.011671,
     "end_time": "2021-07-24T12:27:19.449365",
     "exception": false,
     "start_time": "2021-07-24T12:27:19.437694",
     "status": "completed"
    },
    "tags": []
   },
   "source": [
    "# Hamiltonian Equation for a Marketplace described as Energy\n",
    "\n",
    "Assuming natural forces apply to the business of a Marketplace and that cash is conserved, then the total energy of the Marketplace is the sum of the Potential Energy in the Book, plus the Kinetic Energy of transactions, less Marketplace transaction costs, plus the sum of external forces that weigh on or lift up equity prices in the Book. Consistant with the conservation of energy, the sum of these energies will remain constant over time so that the change in Marketplace energy over time tau is 0. The first solution of the equation is momentum of the price of each equity while the second order solution will be the final value of each equity T(t<sub>f</sub>)\n",
    "\n",
    "![](https://www.elmtreegarden.com/wp-content/uploads/2020/06/image-768x103.png)\n",
    "\n",
    "U is business value</br>\n",
    "Q is internal energy of business including cash</br>\n",
    "W are costs of operations</br>\n",
    "ϕi - ϕj  is potential produced by seller i and buyer j</br>\n",
    "ϕi - ϕj = 1 / (Ti - Tj) is potential to Trade</br>\n",
    "Ni, is number of units traded. It is a vector with length i.</br>\n",
    "\n",
    "Let T(EQ(t)) be the market price of equity EQ at time t. The expected value of T, is market price. If either buyers or sellers place no bids, then T is unidentifiable and price volitility is maximum and N, shares traded, is zero. As many buyers and sellers 'crowd' the marketplace with bids, volitility, del T, will decline and N, shares traded, will increase.\n",
    "\n",
    "This contest has given us data on the \"Target\" del T = dT/T. Actual price of the Equity k is T<sub>k</sub>. I'll need to consider how this affects the formulation of the Hamiltonian.\n",
    "\n",
    "## Caliber of the Book's Price/Volume distribution S (T,N|<sub>H</sub>)\n",
    "\n",
    "S (T,N|<sub>H</sub>) is read: \"*Caliber of T and N given History H.*\" Or the \"*Caliber of the Book's price/volume distribution (buyers and sellers) over History H.*\" Or **Book Caliber**.\n",
    "\n",
    "As the system emerges into the \"now\", Book Caliber is the cross section area of the possible futures the system may take on consistant with the History. The book with most possible trading options will have the least volitility. With more choices of trades (bigger Caliber) the marketmaker is more likely to find optimal (Ta ~= Tb) conditions for trading. Low Book Caliber indicates few trading choices for the marketmaker and fewer options to find optimal trades. If log base 2 is used then S ** 2 is the number of choices the marketmaker will possess.\n",
    "\n",
    "![image.png](attachment:a676d032-7c9b-4b87-aa21-31c8bca4b40c.png)\n",
    "\n",
    "Book Caliber is measured directly from the Book of Orders for each History. del Q in the Hamiltonian above, then is the change in potential energy of the Book of Orders over a History.\n",
    "\n",
    "del Q = del T S + T del S\n",
    "\n",
    "## Kinetic Energy of Equity Sales\n",
    "\n",
    "Conductance of business, N shares sold at price T, occurs when agreement on N and T exists. As (Ti - Tj) grows larger, trading declines, while Volume, N, is constrained to min(Ni, Nj). Kinetic energy of cash flow of trades in a History is the sum of T<sub>i</sub> * N<sub>i</sub>. This information comes from the Trades.\n",
    "\n",
    "Sales is an exchange of potential energy for free energy. The Seller gets Free Energy (cash) and the Buyer obtains Potential Energy of the Equity. Energy of the trade is NT. No Energy is created. Energy changes form in the balance sheet of each trader.\n",
    "\n",
    "## External Forces\n",
    "\n",
    "Each book is influenced by many external forces. The price of equity A and equity B may have mutual information, this is to say each imparts a force on each other's price, or that dT1 = force(dT2). These forces may be modeled using a simple Bayesian Network, **BN**. The DAG of the model will indicate the forces on each Equity impossed by price changes in other Equities. \n",
    "\n",
    "In the equation above, X<sub>i</sub> is an external force on and equities price T causing a price change dx<sub>i</sub>. We have 130 Equities in our Book, so to see how each equity directly affects another's price, we need a 130 X 130 matrix to model these forces. (to be found with a BN)\n",
    "\n",
    "Equities in Transportation will fall with higher energy costs while energy producers's price may increase (negative Pearson correlation). Industry Forces might be used to improve the model's performance. Clusters of Equities might be found that produce better price volitility predictors. Let's try to find about 10 Industies in the Book, and then see how Industry forces effect each equity. The model for this will require a 130 x 10 matrix of factors. (to be found from BN)\n",
    "\n",
    "Taxes are another external force. Sellers of equities pay a Tax on Gains. This can be seen as \"Work\" produced by sellers too. But I see Taxes as an external force in this notebook, since I will assume each trader pays the same tax rate on gains. One Tax rate seems very reasionable.\n",
    "\n",
    "Now let's first make some calculations on a book with one History (time_id=5) and one Equity (stock_id=20)."
   ]
  },
  {
   "cell_type": "code",
   "execution_count": 1,
   "id": "f510a6e6",
   "metadata": {
    "_cell_guid": "b1076dfc-b9ad-4769-8c92-a6c4dae69d19",
    "_uuid": "8f2839f25d086af736a60e9eeb907d3b93b6e0e5",
    "execution": {
     "iopub.execute_input": "2021-07-24T12:27:19.474919Z",
     "iopub.status.busy": "2021-07-24T12:27:19.473885Z",
     "iopub.status.idle": "2021-07-24T12:27:20.865070Z",
     "shell.execute_reply": "2021-07-24T12:27:20.864266Z",
     "shell.execute_reply.started": "2021-07-24T12:17:55.020409Z"
    },
    "papermill": {
     "duration": 1.404655,
     "end_time": "2021-07-24T12:27:20.865232",
     "exception": false,
     "start_time": "2021-07-24T12:27:19.460577",
     "status": "completed"
    },
    "tags": []
   },
   "outputs": [],
   "source": [
    "import numpy as np # linear algebra\n",
    "import pandas as pd # data processing, CSV file I/O (e.g. pd.read_csv)\n",
    "import plotly.express as px\n",
    "import matplotlib.pyplot as plt\n",
    "import glob\n",
    "import os"
   ]
  },
  {
   "cell_type": "code",
   "execution_count": 2,
   "id": "b2d0503a",
   "metadata": {
    "execution": {
     "iopub.execute_input": "2021-07-24T12:27:20.906224Z",
     "iopub.status.busy": "2021-07-24T12:27:20.905534Z",
     "iopub.status.idle": "2021-07-24T12:27:20.908932Z",
     "shell.execute_reply": "2021-07-24T12:27:20.908412Z",
     "shell.execute_reply.started": "2021-07-24T12:17:56.801757Z"
    },
    "papermill": {
     "duration": 0.027688,
     "end_time": "2021-07-24T12:27:20.909077",
     "exception": false,
     "start_time": "2021-07-24T12:27:20.881389",
     "status": "completed"
    },
    "tags": []
   },
   "outputs": [],
   "source": [
    "# Thanks Dan Watson for these handy parquet readers (https://www.kaggle.com/danwatson16/weighted-xgboost-with-stock-grouping-eda)\n",
    "\n",
    "import tqdm as tqdm\n",
    "\n",
    "def get_overall(book):\n",
    "    total_df = pd.DataFrame()\n",
    "    for i in tqdm.tqdm(book):\n",
    "        temp_stock = int(i.split(\"=\")[1])\n",
    "        temp_relvol = get_stock_stat(i, temp_stock)\n",
    "    #    print(temp_relvol)\n",
    "        total_df = pd.concat([total_df, temp_relvol])\n",
    "    return total_df\n",
    "\n",
    "def trade_stock_stat(path, stock_id):\n",
    "    trade =  pd.read_parquet(path)\n",
    "    trade['stock_id'] = stock_id\n",
    "    trade['trade_log_return'] = trade.groupby(['time_id'])['price'].apply(log_return).fillna(0)\n",
    "    trade_features = [\"price\", \"size\", \"order_count\", \"trade_log_return\"] \n",
    "    return stock_stat\n",
    "\n",
    "def merge_frames(train = True):\n",
    "    if train:\n",
    "        order_book_training = glob.glob('/kaggle/input/optiver-realized-volatility-prediction/book_train.parquet/*')\n",
    "        total_df = get_overall(order_book_training)\n",
    "        trade_training = glob.glob('/kaggle/input/optiver-realized-volatility-prediction/trade_train.parquet/*')\n",
    "        total_trade = get_trade_overall(trade_training).drop(columns = [\"seconds_in_bucket\", \"price\", \"size\", \"order_count\", \"trade_log_return\"]).drop_duplicates()\n",
    "        total_df = total_df.merge(total_trade, on = [\"stock_id\",\"time_id\"], how = \"left\")\n",
    "    else:\n",
    "        # listing all test order books\n",
    "        order_book_test = glob.glob('/kaggle/input/optiver-realized-volatility-prediction/book_test.parquet/*')\n",
    "        test_df = get_overall(order_book_test)\n",
    "        trade_test = glob.glob('/kaggle/input/optiver-realized-volatility-prediction/trade_test.parquet/*')\n",
    "        total_test = get_trade_overall(trade_test).drop(columns = [\"seconds_in_bucket\", \"price\", \"size\", \"order_count\", \"trade_log_return\"]).drop_duplicates()\n",
    "        total_df = test_df.merge(total_test, on = [\"stock_id\",\"time_id\"], how = \"left\")\n",
    "    return total_df"
   ]
  },
  {
   "cell_type": "code",
   "execution_count": 3,
   "id": "ce333fd0",
   "metadata": {
    "execution": {
     "iopub.execute_input": "2021-07-24T12:27:20.941099Z",
     "iopub.status.busy": "2021-07-24T12:27:20.940414Z",
     "iopub.status.idle": "2021-07-24T12:27:20.942857Z",
     "shell.execute_reply": "2021-07-24T12:27:20.943246Z",
     "shell.execute_reply.started": "2021-07-24T12:17:56.815981Z"
    },
    "papermill": {
     "duration": 0.023383,
     "end_time": "2021-07-24T12:27:20.943414",
     "exception": false,
     "start_time": "2021-07-24T12:27:20.920031",
     "status": "completed"
    },
    "tags": []
   },
   "outputs": [],
   "source": [
    "def get_stock_stat(path, stock_id):\n",
    "    df_book = pd.read_parquet(path) # order book for a stock id loaded\n",
    "    \n",
    "    df_book['N'] = df_book[['ask_size1','bid_size1']].min(axis=1)\n",
    "    df_book['phi'] = 1/(df_book['ask_price1'] - df_book['bid_price1']) + 1/(df_book['ask_price2'] - df_book['bid_price2'])\n",
    "    df_book['phiN'] = df_book['phi'] * df_book['N']\n",
    "    df_book['S'] = (df_book.phiN * np.log(df_book.phiN)).cumsum()\n",
    "    df_book['dS_dt'] = (df_book['S'] - df_book['S'].shift(1))\n",
    "    df_book['dphi_dt'] = (df_book['phi'] - df_book['phi'].shift(1))\n",
    "    \n",
    "    # compute different vwap\n",
    "    df_book['wap1'] = (df_book['bid_price1'] * df_book['ask_size1'] + df_book['ask_price1'] * df_book['bid_size1']) / (\n",
    "                            df_book['bid_size1']+ df_book['ask_size1'])\n",
    "                            \n",
    "    stock_stat['stock_id'] = stock_id\n",
    "\n",
    "    return stock_stat"
   ]
  },
  {
   "cell_type": "code",
   "execution_count": 4,
   "id": "0cd39960",
   "metadata": {
    "execution": {
     "iopub.execute_input": "2021-07-24T12:27:20.968915Z",
     "iopub.status.busy": "2021-07-24T12:27:20.968291Z",
     "iopub.status.idle": "2021-07-24T12:27:20.971398Z",
     "shell.execute_reply": "2021-07-24T12:27:20.970839Z",
     "shell.execute_reply.started": "2021-07-24T12:17:56.838068Z"
    },
    "papermill": {
     "duration": 0.01729,
     "end_time": "2021-07-24T12:27:20.971546",
     "exception": false,
     "start_time": "2021-07-24T12:27:20.954256",
     "status": "completed"
    },
    "tags": []
   },
   "outputs": [],
   "source": [
    "#train = merge_frames()\n",
    "#train"
   ]
  },
  {
   "cell_type": "code",
   "execution_count": 5,
   "id": "bc045c4c",
   "metadata": {
    "execution": {
     "iopub.execute_input": "2021-07-24T12:27:20.998235Z",
     "iopub.status.busy": "2021-07-24T12:27:20.997643Z",
     "iopub.status.idle": "2021-07-24T12:27:22.301049Z",
     "shell.execute_reply": "2021-07-24T12:27:22.300403Z",
     "shell.execute_reply.started": "2021-07-24T12:17:56.856166Z"
    },
    "papermill": {
     "duration": 1.318875,
     "end_time": "2021-07-24T12:27:22.301190",
     "exception": false,
     "start_time": "2021-07-24T12:27:20.982315",
     "status": "completed"
    },
    "tags": []
   },
   "outputs": [],
   "source": [
    "train = pd.read_csv('../input/optiver-realized-volatility-prediction/train.csv')\n",
    "book_example = pd.read_parquet('../input/optiver-realized-volatility-prediction/book_train.parquet/stock_id=20')\n",
    "trade_example =  pd.read_parquet('../input/optiver-realized-volatility-prediction/trade_train.parquet/stock_id=20')\n",
    "stock_id = '20'\n",
    "book_example = book_example[book_example['time_id']==5]\n",
    "book_example.loc[:,'stock_id'] = stock_id\n",
    "trade_example = trade_example[trade_example['time_id']==5]\n",
    "trade_example.loc[:,'stock_id'] = stock_id"
   ]
  },
  {
   "cell_type": "code",
   "execution_count": 6,
   "id": "23fb2230",
   "metadata": {
    "execution": {
     "iopub.execute_input": "2021-07-24T12:27:22.331078Z",
     "iopub.status.busy": "2021-07-24T12:27:22.330440Z",
     "iopub.status.idle": "2021-07-24T12:27:22.353009Z",
     "shell.execute_reply": "2021-07-24T12:27:22.352514Z",
     "shell.execute_reply.started": "2021-07-24T12:17:57.653791Z"
    },
    "papermill": {
     "duration": 0.041067,
     "end_time": "2021-07-24T12:27:22.353150",
     "exception": false,
     "start_time": "2021-07-24T12:27:22.312083",
     "status": "completed"
    },
    "tags": []
   },
   "outputs": [
    {
     "data": {
      "text/html": [
       "<div>\n",
       "<style scoped>\n",
       "    .dataframe tbody tr th:only-of-type {\n",
       "        vertical-align: middle;\n",
       "    }\n",
       "\n",
       "    .dataframe tbody tr th {\n",
       "        vertical-align: top;\n",
       "    }\n",
       "\n",
       "    .dataframe thead th {\n",
       "        text-align: right;\n",
       "    }\n",
       "</style>\n",
       "<table border=\"1\" class=\"dataframe\">\n",
       "  <thead>\n",
       "    <tr style=\"text-align: right;\">\n",
       "      <th></th>\n",
       "      <th>time_id</th>\n",
       "      <th>seconds_in_bucket</th>\n",
       "      <th>bid_price1</th>\n",
       "      <th>ask_price1</th>\n",
       "      <th>bid_price2</th>\n",
       "      <th>ask_price2</th>\n",
       "      <th>bid_size1</th>\n",
       "      <th>ask_size1</th>\n",
       "      <th>bid_size2</th>\n",
       "      <th>ask_size2</th>\n",
       "      <th>stock_id</th>\n",
       "    </tr>\n",
       "  </thead>\n",
       "  <tbody>\n",
       "    <tr>\n",
       "      <th>0</th>\n",
       "      <td>5</td>\n",
       "      <td>0</td>\n",
       "      <td>0.999371</td>\n",
       "      <td>0.999455</td>\n",
       "      <td>0.999288</td>\n",
       "      <td>0.999539</td>\n",
       "      <td>86</td>\n",
       "      <td>1</td>\n",
       "      <td>100</td>\n",
       "      <td>101</td>\n",
       "      <td>20</td>\n",
       "    </tr>\n",
       "    <tr>\n",
       "      <th>1</th>\n",
       "      <td>5</td>\n",
       "      <td>1</td>\n",
       "      <td>0.998952</td>\n",
       "      <td>0.999288</td>\n",
       "      <td>0.998868</td>\n",
       "      <td>0.999371</td>\n",
       "      <td>71</td>\n",
       "      <td>101</td>\n",
       "      <td>69</td>\n",
       "      <td>301</td>\n",
       "      <td>20</td>\n",
       "    </tr>\n",
       "    <tr>\n",
       "      <th>2</th>\n",
       "      <td>5</td>\n",
       "      <td>2</td>\n",
       "      <td>0.998952</td>\n",
       "      <td>0.999288</td>\n",
       "      <td>0.998868</td>\n",
       "      <td>0.999371</td>\n",
       "      <td>71</td>\n",
       "      <td>100</td>\n",
       "      <td>69</td>\n",
       "      <td>101</td>\n",
       "      <td>20</td>\n",
       "    </tr>\n",
       "    <tr>\n",
       "      <th>3</th>\n",
       "      <td>5</td>\n",
       "      <td>3</td>\n",
       "      <td>0.998952</td>\n",
       "      <td>0.999288</td>\n",
       "      <td>0.998868</td>\n",
       "      <td>0.999371</td>\n",
       "      <td>71</td>\n",
       "      <td>200</td>\n",
       "      <td>65</td>\n",
       "      <td>101</td>\n",
       "      <td>20</td>\n",
       "    </tr>\n",
       "    <tr>\n",
       "      <th>4</th>\n",
       "      <td>5</td>\n",
       "      <td>5</td>\n",
       "      <td>0.999204</td>\n",
       "      <td>0.999288</td>\n",
       "      <td>0.999036</td>\n",
       "      <td>0.999371</td>\n",
       "      <td>200</td>\n",
       "      <td>200</td>\n",
       "      <td>100</td>\n",
       "      <td>301</td>\n",
       "      <td>20</td>\n",
       "    </tr>\n",
       "    <tr>\n",
       "      <th>...</th>\n",
       "      <td>...</td>\n",
       "      <td>...</td>\n",
       "      <td>...</td>\n",
       "      <td>...</td>\n",
       "      <td>...</td>\n",
       "      <td>...</td>\n",
       "      <td>...</td>\n",
       "      <td>...</td>\n",
       "      <td>...</td>\n",
       "      <td>...</td>\n",
       "      <td>...</td>\n",
       "    </tr>\n",
       "    <tr>\n",
       "      <th>540</th>\n",
       "      <td>5</td>\n",
       "      <td>594</td>\n",
       "      <td>1.001802</td>\n",
       "      <td>1.001970</td>\n",
       "      <td>1.001718</td>\n",
       "      <td>1.002054</td>\n",
       "      <td>109</td>\n",
       "      <td>100</td>\n",
       "      <td>100</td>\n",
       "      <td>3</td>\n",
       "      <td>20</td>\n",
       "    </tr>\n",
       "    <tr>\n",
       "      <th>541</th>\n",
       "      <td>5</td>\n",
       "      <td>595</td>\n",
       "      <td>1.001718</td>\n",
       "      <td>1.001886</td>\n",
       "      <td>1.001634</td>\n",
       "      <td>1.001970</td>\n",
       "      <td>100</td>\n",
       "      <td>200</td>\n",
       "      <td>20</td>\n",
       "      <td>1</td>\n",
       "      <td>20</td>\n",
       "    </tr>\n",
       "    <tr>\n",
       "      <th>542</th>\n",
       "      <td>5</td>\n",
       "      <td>596</td>\n",
       "      <td>1.001718</td>\n",
       "      <td>1.001886</td>\n",
       "      <td>1.001634</td>\n",
       "      <td>1.001970</td>\n",
       "      <td>100</td>\n",
       "      <td>291</td>\n",
       "      <td>20</td>\n",
       "      <td>1</td>\n",
       "      <td>20</td>\n",
       "    </tr>\n",
       "    <tr>\n",
       "      <th>543</th>\n",
       "      <td>5</td>\n",
       "      <td>598</td>\n",
       "      <td>1.001718</td>\n",
       "      <td>1.001886</td>\n",
       "      <td>1.001634</td>\n",
       "      <td>1.001970</td>\n",
       "      <td>100</td>\n",
       "      <td>191</td>\n",
       "      <td>20</td>\n",
       "      <td>100</td>\n",
       "      <td>20</td>\n",
       "    </tr>\n",
       "    <tr>\n",
       "      <th>544</th>\n",
       "      <td>5</td>\n",
       "      <td>599</td>\n",
       "      <td>1.001299</td>\n",
       "      <td>1.001551</td>\n",
       "      <td>1.001215</td>\n",
       "      <td>1.001634</td>\n",
       "      <td>13</td>\n",
       "      <td>291</td>\n",
       "      <td>1</td>\n",
       "      <td>1</td>\n",
       "      <td>20</td>\n",
       "    </tr>\n",
       "  </tbody>\n",
       "</table>\n",
       "<p>545 rows × 11 columns</p>\n",
       "</div>"
      ],
      "text/plain": [
       "     time_id  seconds_in_bucket  bid_price1  ask_price1  bid_price2  \\\n",
       "0          5                  0    0.999371    0.999455    0.999288   \n",
       "1          5                  1    0.998952    0.999288    0.998868   \n",
       "2          5                  2    0.998952    0.999288    0.998868   \n",
       "3          5                  3    0.998952    0.999288    0.998868   \n",
       "4          5                  5    0.999204    0.999288    0.999036   \n",
       "..       ...                ...         ...         ...         ...   \n",
       "540        5                594    1.001802    1.001970    1.001718   \n",
       "541        5                595    1.001718    1.001886    1.001634   \n",
       "542        5                596    1.001718    1.001886    1.001634   \n",
       "543        5                598    1.001718    1.001886    1.001634   \n",
       "544        5                599    1.001299    1.001551    1.001215   \n",
       "\n",
       "     ask_price2  bid_size1  ask_size1  bid_size2  ask_size2 stock_id  \n",
       "0      0.999539         86          1        100        101       20  \n",
       "1      0.999371         71        101         69        301       20  \n",
       "2      0.999371         71        100         69        101       20  \n",
       "3      0.999371         71        200         65        101       20  \n",
       "4      0.999371        200        200        100        301       20  \n",
       "..          ...        ...        ...        ...        ...      ...  \n",
       "540    1.002054        109        100        100          3       20  \n",
       "541    1.001970        100        200         20          1       20  \n",
       "542    1.001970        100        291         20          1       20  \n",
       "543    1.001970        100        191         20        100       20  \n",
       "544    1.001634         13        291          1          1       20  \n",
       "\n",
       "[545 rows x 11 columns]"
      ]
     },
     "execution_count": 6,
     "metadata": {},
     "output_type": "execute_result"
    }
   ],
   "source": [
    "book_example"
   ]
  },
  {
   "cell_type": "code",
   "execution_count": 7,
   "id": "00cb751d",
   "metadata": {
    "execution": {
     "iopub.execute_input": "2021-07-24T12:27:22.383993Z",
     "iopub.status.busy": "2021-07-24T12:27:22.383362Z",
     "iopub.status.idle": "2021-07-24T12:27:22.586701Z",
     "shell.execute_reply": "2021-07-24T12:27:22.587154Z",
     "shell.execute_reply.started": "2021-07-24T12:17:57.687677Z"
    },
    "papermill": {
     "duration": 0.2219,
     "end_time": "2021-07-24T12:27:22.587316",
     "exception": false,
     "start_time": "2021-07-24T12:27:22.365416",
     "status": "completed"
    },
    "tags": []
   },
   "outputs": [
    {
     "data": {
      "image/png": "[encoded data removed]",
      "text/plain": [
       "<Figure size 432x288 with 1 Axes>"
      ]
     },
     "metadata": {
      "needs_background": "light"
     },
     "output_type": "display_data"
    }
   ],
   "source": [
    "book_example['N'] = book_example[['ask_size1','bid_size1']].min(axis=1)\n",
    "book_example['phi'] = 1/(book_example['ask_price1'] - book_example['bid_price1'])\n",
    "\n",
    "book_example['phiN'] = book_example['phi'] * book_example['N']\n",
    "book_example['S'] = (book_example.phiN * np.log2(book_example.phiN)).cumsum()\n",
    "book_example['dS_dt'] = (book_example['S'] - book_example['S'].shift(1))\n",
    "\n",
    "fig, ax = plt.subplots()\n",
    "ax.scatter(book_example.seconds_in_bucket,book_example.S)\n",
    "ax.set_title(\"Book Caliber\")\n",
    "ax.set_xlabel(\"Time in seconds\")\n",
    "ax.set_ylabel(\"Caliber S\")\n",
    "fig.show()"
   ]
  },
  {
   "cell_type": "code",
   "execution_count": 8,
   "id": "5d126538",
   "metadata": {
    "execution": {
     "iopub.execute_input": "2021-07-24T12:27:22.635257Z",
     "iopub.status.busy": "2021-07-24T12:27:22.632942Z",
     "iopub.status.idle": "2021-07-24T12:27:22.788991Z",
     "shell.execute_reply": "2021-07-24T12:27:22.789450Z",
     "shell.execute_reply.started": "2021-07-24T12:17:57.930903Z"
    },
    "papermill": {
     "duration": 0.18941,
     "end_time": "2021-07-24T12:27:22.789630",
     "exception": false,
     "start_time": "2021-07-24T12:27:22.600220",
     "status": "completed"
    },
    "tags": []
   },
   "outputs": [
    {
     "data": {
      "image/png": "[encoded data removed]",
      "text/plain": [
       "<Figure size 432x288 with 1 Axes>"
      ]
     },
     "metadata": {
      "needs_background": "light"
     },
     "output_type": "display_data"
    }
   ],
   "source": [
    "#plt.scatter(book_example.seconds_in_bucket,book_example['dS_dt'])\n",
    "\n",
    "fig, ax = plt.subplots()\n",
    "ax.scatter(book_example.seconds_in_bucket,book_example['dS_dt'])\n",
    "ax.set_title(\"Book Caliber change\")\n",
    "ax.set_xlabel(\"Time in seconds\")\n",
    "ax.set_ylabel(\"Change in Caliber S\")\n",
    "fig.show()"
   ]
  },
  {
   "cell_type": "code",
   "execution_count": 9,
   "id": "cc84bc01",
   "metadata": {
    "execution": {
     "iopub.execute_input": "2021-07-24T12:27:22.836081Z",
     "iopub.status.busy": "2021-07-24T12:27:22.834275Z",
     "iopub.status.idle": "2021-07-24T12:27:22.998984Z",
     "shell.execute_reply": "2021-07-24T12:27:22.998360Z",
     "shell.execute_reply.started": "2021-07-24T12:17:58.125864Z"
    },
    "papermill": {
     "duration": 0.196236,
     "end_time": "2021-07-24T12:27:22.999118",
     "exception": false,
     "start_time": "2021-07-24T12:27:22.802882",
     "status": "completed"
    },
    "tags": []
   },
   "outputs": [
    {
     "data": {
      "image/png": "[encoded data removed]",
      "text/plain": [
       "<Figure size 432x288 with 1 Axes>"
      ]
     },
     "metadata": {
      "needs_background": "light"
     },
     "output_type": "display_data"
    }
   ],
   "source": [
    "fig, ax = plt.subplots()\n",
    "ax.scatter(trade_example.seconds_in_bucket,(trade_example.price * trade_example['size']).cumsum())\n",
    "ax.set_title(\"Book Sales: Total Kinetic Energy of the Book\")\n",
    "ax.set_xlabel(\"Time in seconds\")\n",
    "ax.set_ylabel(\"Dollars / kT\")\n",
    "fig.show()\n"
   ]
  },
  {
   "cell_type": "code",
   "execution_count": 10,
   "id": "653ab151",
   "metadata": {
    "execution": {
     "iopub.execute_input": "2021-07-24T12:27:23.034666Z",
     "iopub.status.busy": "2021-07-24T12:27:23.033604Z",
     "iopub.status.idle": "2021-07-24T12:27:23.038127Z",
     "shell.execute_reply": "2021-07-24T12:27:23.038599Z",
     "shell.execute_reply.started": "2021-07-24T12:17:58.309782Z"
    },
    "papermill": {
     "duration": 0.025818,
     "end_time": "2021-07-24T12:27:23.038777",
     "exception": false,
     "start_time": "2021-07-24T12:27:23.012959",
     "status": "completed"
    },
    "tags": []
   },
   "outputs": [
    {
     "name": "stdout",
     "output_type": "stream",
     "text": [
      "204899.89213728905 Energy Flow per Hour / kT  where kT is equity Price\n",
      "3778364.0 Potential phi\n",
      "0.009038298592428233 Conductance\n"
     ]
    }
   ],
   "source": [
    "EF = 6 * (trade_example.price * trade_example['size']).sum()\n",
    "print(EF, \"Energy Flow per Hour / kT  where kT is equity Price\")\n",
    "print(book_example.phi.sum(), \"Potential phi\")\n",
    "print((trade_example.price * trade_example['size']).sum()/book_example.phi.sum(), \"Conductance\")"
   ]
  },
  {
   "cell_type": "code",
   "execution_count": 11,
   "id": "76ee677e",
   "metadata": {
    "execution": {
     "iopub.execute_input": "2021-07-24T12:27:23.069941Z",
     "iopub.status.busy": "2021-07-24T12:27:23.069320Z",
     "iopub.status.idle": "2021-07-24T12:27:23.348243Z",
     "shell.execute_reply": "2021-07-24T12:27:23.347576Z",
     "shell.execute_reply.started": "2021-07-24T12:17:58.319673Z"
    },
    "papermill": {
     "duration": 0.295349,
     "end_time": "2021-07-24T12:27:23.348383",
     "exception": false,
     "start_time": "2021-07-24T12:27:23.053034",
     "status": "completed"
    },
    "tags": []
   },
   "outputs": [
    {
     "data": {
      "text/plain": [
       "<matplotlib.collections.PathCollection at 0x7fefbe2fa2d0>"
      ]
     },
     "execution_count": 11,
     "metadata": {},
     "output_type": "execute_result"
    },
    {
     "data": {
      "image/png": "[encoded data removed]",
      "text/plain": [
       "<Figure size 432x288 with 1 Axes>"
      ]
     },
     "metadata": {
      "needs_background": "light"
     },
     "output_type": "display_data"
    }
   ],
   "source": [
    "book = pd.merge(trade_example, book_example, on = 'seconds_in_bucket', how = 'outer')\n",
    "book['Cond'] = (book.price * book['size'])/book.phi\n",
    "plt.scatter(book.seconds_in_bucket, book.Cond)"
   ]
  },
  {
   "cell_type": "code",
   "execution_count": 12,
   "id": "0d6b1466",
   "metadata": {
    "execution": {
     "iopub.execute_input": "2021-07-24T12:27:23.387269Z",
     "iopub.status.busy": "2021-07-24T12:27:23.384550Z",
     "iopub.status.idle": "2021-07-24T12:27:23.423602Z",
     "shell.execute_reply": "2021-07-24T12:27:23.422868Z",
     "shell.execute_reply.started": "2021-07-24T12:17:58.681490Z"
    },
    "papermill": {
     "duration": 0.060199,
     "end_time": "2021-07-24T12:27:23.423751",
     "exception": false,
     "start_time": "2021-07-24T12:27:23.363552",
     "status": "completed"
    },
    "tags": []
   },
   "outputs": [
    {
     "data": {
      "text/html": [
       "<div>\n",
       "<style scoped>\n",
       "    .dataframe tbody tr th:only-of-type {\n",
       "        vertical-align: middle;\n",
       "    }\n",
       "\n",
       "    .dataframe tbody tr th {\n",
       "        vertical-align: top;\n",
       "    }\n",
       "\n",
       "    .dataframe thead th {\n",
       "        text-align: right;\n",
       "    }\n",
       "</style>\n",
       "<table border=\"1\" class=\"dataframe\">\n",
       "  <thead>\n",
       "    <tr style=\"text-align: right;\">\n",
       "      <th></th>\n",
       "      <th>time_id_x</th>\n",
       "      <th>seconds_in_bucket</th>\n",
       "      <th>price</th>\n",
       "      <th>size</th>\n",
       "      <th>order_count</th>\n",
       "      <th>stock_id_x</th>\n",
       "      <th>time_id_y</th>\n",
       "      <th>bid_price1</th>\n",
       "      <th>ask_price1</th>\n",
       "      <th>bid_price2</th>\n",
       "      <th>...</th>\n",
       "      <th>ask_size1</th>\n",
       "      <th>bid_size2</th>\n",
       "      <th>ask_size2</th>\n",
       "      <th>stock_id_y</th>\n",
       "      <th>N</th>\n",
       "      <th>phi</th>\n",
       "      <th>phiN</th>\n",
       "      <th>S</th>\n",
       "      <th>dS_dt</th>\n",
       "      <th>Cond</th>\n",
       "    </tr>\n",
       "  </thead>\n",
       "  <tbody>\n",
       "    <tr>\n",
       "      <th>0</th>\n",
       "      <td>5.0</td>\n",
       "      <td>0</td>\n",
       "      <td>0.999455</td>\n",
       "      <td>100.0</td>\n",
       "      <td>1.0</td>\n",
       "      <td>20</td>\n",
       "      <td>5</td>\n",
       "      <td>0.999371</td>\n",
       "      <td>0.999455</td>\n",
       "      <td>0.999288</td>\n",
       "      <td>...</td>\n",
       "      <td>1</td>\n",
       "      <td>100</td>\n",
       "      <td>101</td>\n",
       "      <td>20</td>\n",
       "      <td>1</td>\n",
       "      <td>11932.585938</td>\n",
       "      <td>11932.585938</td>\n",
       "      <td>1.615985e+05</td>\n",
       "      <td>NaN</td>\n",
       "      <td>0.008376</td>\n",
       "    </tr>\n",
       "    <tr>\n",
       "      <th>1</th>\n",
       "      <td>5.0</td>\n",
       "      <td>1</td>\n",
       "      <td>0.999297</td>\n",
       "      <td>245.0</td>\n",
       "      <td>5.0</td>\n",
       "      <td>20</td>\n",
       "      <td>5</td>\n",
       "      <td>0.998952</td>\n",
       "      <td>0.999288</td>\n",
       "      <td>0.998868</td>\n",
       "      <td>...</td>\n",
       "      <td>101</td>\n",
       "      <td>69</td>\n",
       "      <td>301</td>\n",
       "      <td>20</td>\n",
       "      <td>71</td>\n",
       "      <td>2982.616211</td>\n",
       "      <td>211765.750977</td>\n",
       "      <td>3.908181e+06</td>\n",
       "      <td>3.746583e+06</td>\n",
       "      <td>0.082085</td>\n",
       "    </tr>\n",
       "    <tr>\n",
       "      <th>2</th>\n",
       "      <td>5.0</td>\n",
       "      <td>6</td>\n",
       "      <td>0.999316</td>\n",
       "      <td>301.0</td>\n",
       "      <td>7.0</td>\n",
       "      <td>20</td>\n",
       "      <td>5</td>\n",
       "      <td>0.999036</td>\n",
       "      <td>0.999288</td>\n",
       "      <td>0.998952</td>\n",
       "      <td>...</td>\n",
       "      <td>216</td>\n",
       "      <td>71</td>\n",
       "      <td>100</td>\n",
       "      <td>20</td>\n",
       "      <td>1</td>\n",
       "      <td>3976.585938</td>\n",
       "      <td>3976.585938</td>\n",
       "      <td>6.201078e+07</td>\n",
       "      <td>4.754929e+04</td>\n",
       "      <td>0.075641</td>\n",
       "    </tr>\n",
       "    <tr>\n",
       "      <th>3</th>\n",
       "      <td>5.0</td>\n",
       "      <td>9</td>\n",
       "      <td>0.999022</td>\n",
       "      <td>601.0</td>\n",
       "      <td>7.0</td>\n",
       "      <td>20</td>\n",
       "      <td>5</td>\n",
       "      <td>0.998952</td>\n",
       "      <td>0.999204</td>\n",
       "      <td>0.998868</td>\n",
       "      <td>...</td>\n",
       "      <td>101</td>\n",
       "      <td>501</td>\n",
       "      <td>1</td>\n",
       "      <td>20</td>\n",
       "      <td>86</td>\n",
       "      <td>3976.585938</td>\n",
       "      <td>341986.390625</td>\n",
       "      <td>7.974056e+07</td>\n",
       "      <td>6.286934e+06</td>\n",
       "      <td>0.150987</td>\n",
       "    </tr>\n",
       "    <tr>\n",
       "      <th>4</th>\n",
       "      <td>5.0</td>\n",
       "      <td>10</td>\n",
       "      <td>0.999195</td>\n",
       "      <td>67.0</td>\n",
       "      <td>4.0</td>\n",
       "      <td>20</td>\n",
       "      <td>5</td>\n",
       "      <td>0.999120</td>\n",
       "      <td>0.999288</td>\n",
       "      <td>0.999036</td>\n",
       "      <td>...</td>\n",
       "      <td>100</td>\n",
       "      <td>101</td>\n",
       "      <td>1</td>\n",
       "      <td>20</td>\n",
       "      <td>100</td>\n",
       "      <td>5964.171875</td>\n",
       "      <td>596417.187500</td>\n",
       "      <td>9.118339e+07</td>\n",
       "      <td>1.144284e+07</td>\n",
       "      <td>0.011225</td>\n",
       "    </tr>\n",
       "    <tr>\n",
       "      <th>...</th>\n",
       "      <td>...</td>\n",
       "      <td>...</td>\n",
       "      <td>...</td>\n",
       "      <td>...</td>\n",
       "      <td>...</td>\n",
       "      <td>...</td>\n",
       "      <td>...</td>\n",
       "      <td>...</td>\n",
       "      <td>...</td>\n",
       "      <td>...</td>\n",
       "      <td>...</td>\n",
       "      <td>...</td>\n",
       "      <td>...</td>\n",
       "      <td>...</td>\n",
       "      <td>...</td>\n",
       "      <td>...</td>\n",
       "      <td>...</td>\n",
       "      <td>...</td>\n",
       "      <td>...</td>\n",
       "      <td>...</td>\n",
       "      <td>...</td>\n",
       "    </tr>\n",
       "    <tr>\n",
       "      <th>540</th>\n",
       "      <td>NaN</td>\n",
       "      <td>590</td>\n",
       "      <td>NaN</td>\n",
       "      <td>NaN</td>\n",
       "      <td>NaN</td>\n",
       "      <td>NaN</td>\n",
       "      <td>5</td>\n",
       "      <td>1.001802</td>\n",
       "      <td>1.001970</td>\n",
       "      <td>1.001718</td>\n",
       "      <td>...</td>\n",
       "      <td>290</td>\n",
       "      <td>100</td>\n",
       "      <td>100</td>\n",
       "      <td>20</td>\n",
       "      <td>1</td>\n",
       "      <td>5966.292969</td>\n",
       "      <td>5966.292969</td>\n",
       "      <td>5.432653e+09</td>\n",
       "      <td>7.483294e+04</td>\n",
       "      <td>NaN</td>\n",
       "    </tr>\n",
       "    <tr>\n",
       "      <th>541</th>\n",
       "      <td>NaN</td>\n",
       "      <td>593</td>\n",
       "      <td>NaN</td>\n",
       "      <td>NaN</td>\n",
       "      <td>NaN</td>\n",
       "      <td>NaN</td>\n",
       "      <td>5</td>\n",
       "      <td>1.001886</td>\n",
       "      <td>1.002054</td>\n",
       "      <td>1.001802</td>\n",
       "      <td>...</td>\n",
       "      <td>100</td>\n",
       "      <td>110</td>\n",
       "      <td>67</td>\n",
       "      <td>20</td>\n",
       "      <td>1</td>\n",
       "      <td>5962.052734</td>\n",
       "      <td>5962.052734</td>\n",
       "      <td>5.456848e+09</td>\n",
       "      <td>7.477364e+04</td>\n",
       "      <td>NaN</td>\n",
       "    </tr>\n",
       "    <tr>\n",
       "      <th>542</th>\n",
       "      <td>NaN</td>\n",
       "      <td>594</td>\n",
       "      <td>NaN</td>\n",
       "      <td>NaN</td>\n",
       "      <td>NaN</td>\n",
       "      <td>NaN</td>\n",
       "      <td>5</td>\n",
       "      <td>1.001802</td>\n",
       "      <td>1.001970</td>\n",
       "      <td>1.001718</td>\n",
       "      <td>...</td>\n",
       "      <td>100</td>\n",
       "      <td>100</td>\n",
       "      <td>3</td>\n",
       "      <td>20</td>\n",
       "      <td>100</td>\n",
       "      <td>5966.292969</td>\n",
       "      <td>596629.296875</td>\n",
       "      <td>5.468296e+09</td>\n",
       "      <td>1.144721e+07</td>\n",
       "      <td>NaN</td>\n",
       "    </tr>\n",
       "    <tr>\n",
       "      <th>543</th>\n",
       "      <td>NaN</td>\n",
       "      <td>596</td>\n",
       "      <td>NaN</td>\n",
       "      <td>NaN</td>\n",
       "      <td>NaN</td>\n",
       "      <td>NaN</td>\n",
       "      <td>5</td>\n",
       "      <td>1.001718</td>\n",
       "      <td>1.001886</td>\n",
       "      <td>1.001634</td>\n",
       "      <td>...</td>\n",
       "      <td>291</td>\n",
       "      <td>20</td>\n",
       "      <td>1</td>\n",
       "      <td>20</td>\n",
       "      <td>100</td>\n",
       "      <td>5966.292969</td>\n",
       "      <td>596629.296875</td>\n",
       "      <td>5.491190e+09</td>\n",
       "      <td>1.144721e+07</td>\n",
       "      <td>NaN</td>\n",
       "    </tr>\n",
       "    <tr>\n",
       "      <th>544</th>\n",
       "      <td>NaN</td>\n",
       "      <td>598</td>\n",
       "      <td>NaN</td>\n",
       "      <td>NaN</td>\n",
       "      <td>NaN</td>\n",
       "      <td>NaN</td>\n",
       "      <td>5</td>\n",
       "      <td>1.001718</td>\n",
       "      <td>1.001886</td>\n",
       "      <td>1.001634</td>\n",
       "      <td>...</td>\n",
       "      <td>191</td>\n",
       "      <td>20</td>\n",
       "      <td>100</td>\n",
       "      <td>20</td>\n",
       "      <td>100</td>\n",
       "      <td>5966.292969</td>\n",
       "      <td>596629.296875</td>\n",
       "      <td>5.502637e+09</td>\n",
       "      <td>1.144721e+07</td>\n",
       "      <td>NaN</td>\n",
       "    </tr>\n",
       "  </tbody>\n",
       "</table>\n",
       "<p>545 rows × 22 columns</p>\n",
       "</div>"
      ],
      "text/plain": [
       "     time_id_x  seconds_in_bucket     price   size  order_count stock_id_x  \\\n",
       "0          5.0                  0  0.999455  100.0          1.0         20   \n",
       "1          5.0                  1  0.999297  245.0          5.0         20   \n",
       "2          5.0                  6  0.999316  301.0          7.0         20   \n",
       "3          5.0                  9  0.999022  601.0          7.0         20   \n",
       "4          5.0                 10  0.999195   67.0          4.0         20   \n",
       "..         ...                ...       ...    ...          ...        ...   \n",
       "540        NaN                590       NaN    NaN          NaN        NaN   \n",
       "541        NaN                593       NaN    NaN          NaN        NaN   \n",
       "542        NaN                594       NaN    NaN          NaN        NaN   \n",
       "543        NaN                596       NaN    NaN          NaN        NaN   \n",
       "544        NaN                598       NaN    NaN          NaN        NaN   \n",
       "\n",
       "     time_id_y  bid_price1  ask_price1  bid_price2  ...  ask_size1  bid_size2  \\\n",
       "0            5    0.999371    0.999455    0.999288  ...          1        100   \n",
       "1            5    0.998952    0.999288    0.998868  ...        101         69   \n",
       "2            5    0.999036    0.999288    0.998952  ...        216         71   \n",
       "3            5    0.998952    0.999204    0.998868  ...        101        501   \n",
       "4            5    0.999120    0.999288    0.999036  ...        100        101   \n",
       "..         ...         ...         ...         ...  ...        ...        ...   \n",
       "540          5    1.001802    1.001970    1.001718  ...        290        100   \n",
       "541          5    1.001886    1.002054    1.001802  ...        100        110   \n",
       "542          5    1.001802    1.001970    1.001718  ...        100        100   \n",
       "543          5    1.001718    1.001886    1.001634  ...        291         20   \n",
       "544          5    1.001718    1.001886    1.001634  ...        191         20   \n",
       "\n",
       "     ask_size2  stock_id_y    N           phi           phiN             S  \\\n",
       "0          101          20    1  11932.585938   11932.585938  1.615985e+05   \n",
       "1          301          20   71   2982.616211  211765.750977  3.908181e+06   \n",
       "2          100          20    1   3976.585938    3976.585938  6.201078e+07   \n",
       "3            1          20   86   3976.585938  341986.390625  7.974056e+07   \n",
       "4            1          20  100   5964.171875  596417.187500  9.118339e+07   \n",
       "..         ...         ...  ...           ...            ...           ...   \n",
       "540        100          20    1   5966.292969    5966.292969  5.432653e+09   \n",
       "541         67          20    1   5962.052734    5962.052734  5.456848e+09   \n",
       "542          3          20  100   5966.292969  596629.296875  5.468296e+09   \n",
       "543          1          20  100   5966.292969  596629.296875  5.491190e+09   \n",
       "544        100          20  100   5966.292969  596629.296875  5.502637e+09   \n",
       "\n",
       "            dS_dt      Cond  \n",
       "0             NaN  0.008376  \n",
       "1    3.746583e+06  0.082085  \n",
       "2    4.754929e+04  0.075641  \n",
       "3    6.286934e+06  0.150987  \n",
       "4    1.144284e+07  0.011225  \n",
       "..            ...       ...  \n",
       "540  7.483294e+04       NaN  \n",
       "541  7.477364e+04       NaN  \n",
       "542  1.144721e+07       NaN  \n",
       "543  1.144721e+07       NaN  \n",
       "544  1.144721e+07       NaN  \n",
       "\n",
       "[545 rows x 22 columns]"
      ]
     },
     "execution_count": 12,
     "metadata": {},
     "output_type": "execute_result"
    }
   ],
   "source": [
    "book"
   ]
  },
  {
   "cell_type": "code",
   "execution_count": 13,
   "id": "1931363f",
   "metadata": {
    "execution": {
     "iopub.execute_input": "2021-07-24T12:27:23.459949Z",
     "iopub.status.busy": "2021-07-24T12:27:23.459168Z",
     "iopub.status.idle": "2021-07-24T12:27:24.297880Z",
     "shell.execute_reply": "2021-07-24T12:27:24.297328Z",
     "shell.execute_reply.started": "2021-07-24T12:17:58.730693Z"
    },
    "papermill": {
     "duration": 0.858467,
     "end_time": "2021-07-24T12:27:24.298034",
     "exception": false,
     "start_time": "2021-07-24T12:27:23.439567",
     "status": "completed"
    },
    "tags": []
   },
   "outputs": [],
   "source": [
    "from sklearn.metrics import r2_score\n",
    "import glob\n",
    "list_order_book_file_train = glob.glob('/kaggle/input/optiver-realized-volatility-prediction/book_train.parquet/*')"
   ]
  },
  {
   "cell_type": "code",
   "execution_count": 14,
   "id": "dd0b3a7d",
   "metadata": {
    "execution": {
     "iopub.execute_input": "2021-07-24T12:27:24.360394Z",
     "iopub.status.busy": "2021-07-24T12:27:24.358329Z",
     "iopub.status.idle": "2021-07-24T12:27:24.571823Z",
     "shell.execute_reply": "2021-07-24T12:27:24.572276Z",
     "shell.execute_reply.started": "2021-07-24T12:17:59.638639Z"
    },
    "papermill": {
     "duration": 0.257937,
     "end_time": "2021-07-24T12:27:24.572449",
     "exception": false,
     "start_time": "2021-07-24T12:27:24.314512",
     "status": "completed"
    },
    "tags": []
   },
   "outputs": [
    {
     "data": {
      "text/plain": [
       "(array([25.,  5.,  3.,  3.,  2., 15., 37.,  7.,  1.,  1.,  1.,  4.,  8.,\n",
       "        14.,  7.,  2.,  1.,  1.,  0., 12.,  8.,  3.,  1.,  4.,  1.,  0.,\n",
       "         4.,  2.,  5.,  0.,  0.,  1.,  0.,  2.,  1.,  1.,  0.,  0.,  0.,\n",
       "         0.,  0.,  1.,  2.,  0.,  1.,  0.,  0.,  2.,  0.,  1.]),\n",
       " array([  0.9987846 ,  15.48657304,  29.97436149,  44.46214993,\n",
       "         58.94993837,  73.43772681,  87.92551526, 102.4133037 ,\n",
       "        116.90109214, 131.38888058, 145.87666903, 160.36445747,\n",
       "        174.85224591, 189.34003435, 203.82782279, 218.31561124,\n",
       "        232.80339968, 247.29118812, 261.77897656, 276.26676501,\n",
       "        290.75455345, 305.24234189, 319.73013033, 334.21791878,\n",
       "        348.70570722, 363.19349566, 377.6812841 , 392.16907255,\n",
       "        406.65686099, 421.14464943, 435.63243787, 450.12022632,\n",
       "        464.60801476, 479.0958032 , 493.58359164, 508.07138008,\n",
       "        522.55916853, 537.04695697, 551.53474541, 566.02253385,\n",
       "        580.5103223 , 594.99811074, 609.48589918, 623.97368762,\n",
       "        638.46147607, 652.94926451, 667.43705295, 681.92484139,\n",
       "        696.41262984, 710.90041828, 725.38820672]),\n",
       " <BarContainer object of 50 artists>)"
      ]
     },
     "execution_count": 14,
     "metadata": {},
     "output_type": "execute_result"
    },
    {
     "data": {
      "image/png": "[encoded data removed]",
      "text/plain": [
       "<Figure size 432x288 with 1 Axes>"
      ]
     },
     "metadata": {
      "needs_background": "light"
     },
     "output_type": "display_data"
    }
   ],
   "source": [
    "plt.hist(trade_example.price * trade_example['size'], bins=50)\n"
   ]
  },
  {
   "cell_type": "markdown",
   "id": "9c0b6a4b",
   "metadata": {
    "papermill": {
     "duration": 0.016695,
     "end_time": "2021-07-24T12:27:24.606050",
     "exception": false,
     "start_time": "2021-07-24T12:27:24.589355",
     "status": "completed"
    },
    "tags": []
   },
   "source": [
    "## Work in progress\n",
    "Next Steps:\n",
    "1. Make a BN using del T of each Equity for one History. Try to estimate forces between Equities.\n",
    "2. Using all Histories identify Industry forces on each Equity. Try to find Tax burden.\n",
    "3. Construct a Hamiltonian for each Equity. \n",
    "4. Solve for most likely price volitility given most recent History"
   ]
  }
 ],
 "metadata": {
  "kernelspec": {
   "display_name": "Python 3",
   "language": "python",
   "name": "python3"
  },
  "language_info": {
   "codemirror_mode": {
    "name": "ipython",
    "version": 3
   },
   "file_extension": ".py",
   "mimetype": "text/x-python",
   "name": "python",
   "nbconvert_exporter": "python",
   "pygments_lexer": "ipython3",
   "version": "3.7.10"
  },
  "papermill": {
   "default_parameters": {},
   "duration": 13.799921,
   "end_time": "2021-07-24T12:27:25.898697",
   "environment_variables": {},
   "exception": null,
   "input_path": "__notebook__.ipynb",
   "output_path": "__notebook__.ipynb",
   "parameters": {},
   "start_time": "2021-07-24T12:27:12.098776",
   "version": "2.3.3"
  }
 },
 "nbformat": 4,
 "nbformat_minor": 5
}
